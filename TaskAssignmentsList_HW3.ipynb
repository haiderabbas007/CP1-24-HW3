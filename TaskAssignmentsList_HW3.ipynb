{
 "cells": [
  {
   "cell_type": "markdown",
   "metadata": {},
   "source": [
    "# Task Distribution List For Homework 3\n",
    "*Here is the list of each task as laid out in the homework and the names of individuals who have volunteered for them. copied from hw2 *\n",
    "\n",
    "1. V->I->R->V\n",
    "   \n",
    "   - **zbpetersbuf**\n",
    "\n",
    "2. Lorentz Force\n",
    "   - **jkblc**"
   ]
  },
  {
   "cell_type": "markdown",
   "metadata": {},
   "source": []
  }
 ],
 "metadata": {
  "kernelspec": {
   "display_name": "Python 3",
   "language": "python",
   "name": "python3"
  },
  "language_info": {
   "codemirror_mode": {
    "name": "ipython",
    "version": 3
   },
   "file_extension": ".py",
   "mimetype": "text/x-python",
   "name": "python",
   "nbconvert_exporter": "python",
   "pygments_lexer": "ipython3",
   "version": "3.12.1"
  }
 },
 "nbformat": 4,
 "nbformat_minor": 2
}
